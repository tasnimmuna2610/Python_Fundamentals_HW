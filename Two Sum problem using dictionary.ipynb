{
 "cells": [
  {
   "cell_type": "markdown",
   "id": "bd2b7847",
   "metadata": {},
   "source": [
    " Problem: Two sum problem using dictionary\n",
    "   <br> Link:     https://leetcode.com/problems/two-sum/submissions/"
   ]
  },
  {
   "cell_type": "code",
   "execution_count": 1,
   "id": "6e7d8011",
   "metadata": {},
   "outputs": [],
   "source": [
    "def twoSum(nums,target_num):\n",
    "    result_dict = dict()\n",
    "    pos = 0\n",
    "    while pos < len(nums):\n",
    "        if (target_num - nums[pos]) not in result_dict:\n",
    "            result_dict[nums[pos]] = pos\n",
    "            pos += 1\n",
    "        else:\n",
    "            return [result_dict[target_num - nums[pos]], pos]\n"
   ]
  },
  {
   "cell_type": "code",
   "execution_count": 2,
   "id": "d1e0cd00",
   "metadata": {},
   "outputs": [
    {
     "data": {
      "text/plain": [
       "[1, 2]"
      ]
     },
     "execution_count": 2,
     "metadata": {},
     "output_type": "execute_result"
    }
   ],
   "source": [
    "twoSum([3,2,4],6)"
   ]
  },
  {
   "cell_type": "code",
   "execution_count": 3,
   "id": "7e10ae14",
   "metadata": {},
   "outputs": [
    {
     "data": {
      "text/plain": [
       "[0, 1]"
      ]
     },
     "execution_count": 3,
     "metadata": {},
     "output_type": "execute_result"
    }
   ],
   "source": [
    "twoSum([5,6,7,11],11)"
   ]
  },
  {
   "cell_type": "code",
   "execution_count": null,
   "id": "0eba836b",
   "metadata": {},
   "outputs": [],
   "source": []
  }
 ],
 "metadata": {
  "kernelspec": {
   "display_name": "Python 3",
   "language": "python",
   "name": "python3"
  },
  "language_info": {
   "codemirror_mode": {
    "name": "ipython",
    "version": 3
   },
   "file_extension": ".py",
   "mimetype": "text/x-python",
   "name": "python",
   "nbconvert_exporter": "python",
   "pygments_lexer": "ipython3",
   "version": "3.8.8"
  }
 },
 "nbformat": 4,
 "nbformat_minor": 5
}
